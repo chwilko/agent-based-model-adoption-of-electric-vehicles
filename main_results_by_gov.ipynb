{
 "cells": [
  {
   "cell_type": "code",
   "execution_count": null,
   "metadata": {},
   "outputs": [],
   "source": [
    "import os\n",
    "import matplotlib.pyplot as plt\n",
    "\n",
    "from model import (\n",
    "    SocietyConstantsEnergyPrices,\n",
    "    GovernmentMixedStrategy,\n",
    "    GovernmentBuildChargingStation,\n",
    "    GovernmentProvidesSubsidies,\n",
    "    CV,\n",
    "    EV,\n",
    "    PHEV,\n",
    "    Car_EV\n",
    ")\n",
    "from model.utils import (\n",
    "    get_trajectories,\n",
    "    common_params,\n",
    "    plot_intervals,\n",
    "    check_by,\n",
    "    plot_check_by,\n",
    ")"
   ]
  },
  {
   "cell_type": "code",
   "execution_count": null,
   "metadata": {},
   "outputs": [],
   "source": [
    "# plt.style.use(\"dark_background\")\n",
    "# plt.rc(\"grid\", alpha=0.3)"
   ]
  },
  {
   "cell_type": "code",
   "execution_count": null,
   "metadata": {},
   "outputs": [],
   "source": [
    "MC = 50\n",
    "T = 12 * 30\n",
    "\n",
    "N = common_params[\"kwargs\"][\"population\"]\n",
    "\n",
    "param = \"government\"\n",
    "class Gov1(GovernmentMixedStrategy):\n",
    "    pass\n",
    "class Gov2(GovernmentMixedStrategy):\n",
    "    pass\n",
    "class Gov3(GovernmentMixedStrategy):\n",
    "    pass\n",
    "\n",
    "param_list = [\n",
    "    GovernmentBuildChargingStation(),\n",
    "    GovernmentMixedStrategy(),\n",
    "    GovernmentProvidesSubsidies(),\n",
    "]\n"
   ]
  },
  {
   "cell_type": "code",
   "execution_count": null,
   "metadata": {},
   "outputs": [],
   "source": [
    "common_params[\"kwargs\"][\"initial_public_chargers\"] = 60\n",
    "common_params[\"kwargs\"]"
   ]
  },
  {
   "cell_type": "code",
   "execution_count": null,
   "metadata": {},
   "outputs": [],
   "source": [
    "values = check_by(\n",
    "    SocietyConstantsEnergyPrices,\n",
    "    common_params[\"kwargs\"],\n",
    "    param,\n",
    "    param_list,\n",
    "    T,\n",
    "    MC,\n",
    "    4,\n",
    ")"
   ]
  },
  {
   "cell_type": "code",
   "execution_count": null,
   "metadata": {},
   "outputs": [],
   "source": [
    "fig, axs = plt.subplots(nrows=3, figsize=(10, 5))\n",
    "plot_check_by(values, axs)\n",
    "\n",
    "for ax in axs:\n",
    "    ax.legend()\n",
    "axs[0].set_title(CV)\n",
    "axs[1].set_title(EV)\n",
    "axs[2].set_title(PHEV)"
   ]
  },
  {
   "cell_type": "code",
   "execution_count": null,
   "metadata": {},
   "outputs": [],
   "source": [
    "# fig, axs = plt.subplots(nrows=3, figsize=(10, 9))\n",
    "\n",
    "# plot_intervals(\n",
    "#     year / 12,\n",
    "#     [trajectory / N for trajectory in CVs],\n",
    "#     ax=axs[0],\n",
    "#     color=\"c\",\n",
    "#     label=\"CV\",\n",
    "#     alpha=0.3,\n",
    "# )\n",
    "# plot_intervals(\n",
    "#     year / 12,\n",
    "#     [trajectory / N for trajectory in EVs],\n",
    "#     ax=axs[1],\n",
    "#     color=\"m\",\n",
    "#     label=\"EV\",\n",
    "#     alpha=0.3,\n",
    "# )\n",
    "# plot_intervals(\n",
    "#     year / 12,\n",
    "#     [trajectory / N for trajectory in PHEVs],\n",
    "#     ax=axs[2],\n",
    "#     color=\"y\",\n",
    "#     label=\"PHEV\",\n",
    "#     alpha=0.3,\n",
    "# )\n",
    "\n",
    "\n",
    "# axs[0].legend()\n",
    "# axs[1].legend()\n",
    "# axs[2].legend()\n",
    "\n",
    "# axs[0].set_title(\"CV\")\n",
    "# axs[1].set_title(\"EV\")\n",
    "# axs[2].set_title(\"PHEV\")\n",
    "\n",
    "# fig.suptitle(\"constatnt prices, government build chargers stations\", fontsize=16)"
   ]
  },
  {
   "cell_type": "code",
   "execution_count": null,
   "metadata": {},
   "outputs": [],
   "source": []
  }
 ],
 "metadata": {
  "kernelspec": {
   "display_name": "Python 3.11.3 ('magisterka-gfehrrZQ-py3.11')",
   "language": "python",
   "name": "python3"
  },
  "language_info": {
   "codemirror_mode": {
    "name": "ipython",
    "version": 3
   },
   "file_extension": ".py",
   "mimetype": "text/x-python",
   "name": "python",
   "nbconvert_exporter": "python",
   "pygments_lexer": "ipython3",
   "version": "3.11.3"
  },
  "orig_nbformat": 4,
  "vscode": {
   "interpreter": {
    "hash": "defc96318194b7231653b87f50e55fed5628e849e10c1aee8ce9b1b92a1b25b6"
   }
  }
 },
 "nbformat": 4,
 "nbformat_minor": 2
}
