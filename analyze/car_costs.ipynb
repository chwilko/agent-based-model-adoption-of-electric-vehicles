{
 "cells": [
  {
   "cell_type": "code",
   "execution_count": 1,
   "metadata": {},
   "outputs": [
    {
     "name": "stdout",
     "output_type": "stream",
     "text": [
      "GOV to do!\n"
     ]
    }
   ],
   "source": [
    "import os\n",
    "\n",
    "os.chdir(\"..\")\n",
    "import model\n",
    "from model.utils import common_params\n",
    "\n",
    "os.chdir(\"analyze\")\n",
    "\n",
    "from typing import Dict\n",
    "import pandas as pd\n",
    "import seaborn as sns\n",
    "import matplotlib.pyplot as plt"
   ]
  },
  {
   "cell_type": "code",
   "execution_count": 2,
   "metadata": {},
   "outputs": [],
   "source": [
    "plt.style.use(\"dark_background\")\n",
    "plt.rc(\"grid\", alpha=0.3)"
   ]
  },
  {
   "cell_type": "code",
   "execution_count": 3,
   "metadata": {},
   "outputs": [],
   "source": [
    "lines = []\n",
    "cp = model.utils.common_params.copy()"
   ]
  },
  {
   "cell_type": "code",
   "execution_count": 4,
   "metadata": {},
   "outputs": [],
   "source": [
    "class Society_car_prices(model.SocietyConstantsEnergyPrices):\n",
    "    def _get_annual_cost(\n",
    "        self, customer: model.Customer, year: int, month: int\n",
    "    ) -> Dict[model.CarTypes, float]:\n",
    "        val = super()._get_annual_cost(customer, year, month)\n",
    "        lines.append(val)\n",
    "        return val"
   ]
  },
  {
   "cell_type": "code",
   "execution_count": 5,
   "metadata": {},
   "outputs": [],
   "source": [
    "MC = 100\n",
    "# cp[\"kwargs\"][\"energy_price\"] = 6\n",
    "# cp[\"kwargs\"][\"fuel_price\"] = 600\n",
    "cp[\"kwargs\"][\"car_price_noise\"] = lambda: 0\n",
    "cp[\"kwargs\"][\"corporation_technological_progress\"] = 0.005\n",
    "# N = 100\n",
    "T = cp[\"T\"]\n",
    "# get_full_path = lambda x: os.sep.join([\"..\", \"data\", x])\n",
    "# energy_prices = get_full_path(\"energy_price.csv\")\n",
    "# fuel_prices = get_full_path(\"fuel_price.csv\")\n",
    "# nerby_radius = 10\n",
    "# city_size = (500, 500)\n",
    "# alpha = 0.01\n",
    "# corporation_margin = 0.2\n",
    "# corporation_technological_progress = 0.0004\n",
    "# initial_public_chargers = 100\n",
    "# initial_time = (2015, 1)"
   ]
  },
  {
   "cell_type": "code",
   "execution_count": 6,
   "metadata": {},
   "outputs": [
    {
     "data": {
      "text/plain": [
       "{'T': 100,\n",
       " 'kwargs': {'alpha': 0.01,\n",
       "  'car_price_noise': <function __main__.<lambda>()>,\n",
       "  'city_size': (54, 54),\n",
       "  'corporation_margin': 0.2,\n",
       "  'corporation_technological_progress': 0.005,\n",
       "  'energy_price': 600,\n",
       "  'energy_factor': 1,\n",
       "  'fuel_price': 6,\n",
       "  'government': <model.Government.GovernmentBuildChargingStation at 0x7f7794bb1fd0>,\n",
       "  'initial_public_chargers': 6,\n",
       "  'initial_time': (2015, 1),\n",
       "  'nerby_radius': 10,\n",
       "  'population': 3000}}"
      ]
     },
     "execution_count": 6,
     "metadata": {},
     "output_type": "execute_result"
    }
   ],
   "source": [
    "cp"
   ]
  },
  {
   "cell_type": "code",
   "execution_count": 7,
   "metadata": {},
   "outputs": [],
   "source": [
    "soc = Society_car_prices(**cp[\"kwargs\"])\n",
    "soc.run(T)"
   ]
  },
  {
   "cell_type": "code",
   "execution_count": 8,
   "metadata": {},
   "outputs": [
    {
     "data": {
      "text/plain": [
       "19918.76"
      ]
     },
     "execution_count": 8,
     "metadata": {},
     "output_type": "execute_result"
    }
   ],
   "source": [
    "max([line[\"EV\"] for line in lines])"
   ]
  },
  {
   "cell_type": "code",
   "execution_count": 9,
   "metadata": {},
   "outputs": [
    {
     "data": {
      "text/plain": [
       "<Axes: >"
      ]
     },
     "execution_count": 9,
     "metadata": {},
     "output_type": "execute_result"
    },
    {
     "data": {
      "image/png": "[encoded data removed]",
      "text/plain": [
       "<Figure size 640x480 with 1 Axes>"
      ]
     },
     "metadata": {},
     "output_type": "display_data"
    }
   ],
   "source": [
    "sns.boxenplot(pd.DataFrame(lines))"
   ]
  },
  {
   "cell_type": "code",
   "execution_count": 10,
   "metadata": {},
   "outputs": [
    {
     "data": {
      "text/plain": [
       "{'CV': 126900.0, 'EV': 132493.2, 'PHEV': 129696.6}"
      ]
     },
     "execution_count": 10,
     "metadata": {},
     "output_type": "execute_result"
    }
   ],
   "source": [
    "soc.corporations.car_costs"
   ]
  }
 ],
 "metadata": {
  "kernelspec": {
   "display_name": "Python 3.11.3 ('magisterka-gfehrrZQ-py3.11')",
   "language": "python",
   "name": "python3"
  },
  "language_info": {
   "codemirror_mode": {
    "name": "ipython",
    "version": 3
   },
   "file_extension": ".py",
   "mimetype": "text/x-python",
   "name": "python",
   "nbconvert_exporter": "python",
   "pygments_lexer": "ipython3",
   "version": "3.11.3"
  },
  "orig_nbformat": 4,
  "vscode": {
   "interpreter": {
    "hash": "defc96318194b7231653b87f50e55fed5628e849e10c1aee8ce9b1b92a1b25b6"
   }
  }
 },
 "nbformat": 4,
 "nbformat_minor": 2
}
