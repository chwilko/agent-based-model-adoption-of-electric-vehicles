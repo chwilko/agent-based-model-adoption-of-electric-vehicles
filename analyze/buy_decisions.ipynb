{
 "cells": [
  {
   "cell_type": "code",
   "execution_count": 1,
   "metadata": {},
   "outputs": [
    {
     "name": "stdout",
     "output_type": "stream",
     "text": [
      "GOV to do!\n"
     ]
    }
   ],
   "source": [
    "import os\n",
    "\n",
    "# os.chdir(\"..\")\n",
    "import fake_model as model\n",
    "from fake_model import EV, CV, PHEV\n",
    "\n",
    "# os.chdir(\"analyze\")\n",
    "\n",
    "from typing import Dict\n",
    "import pandas as pd\n",
    "import seaborn as sns\n",
    "from random import random\n",
    "import matplotlib.pyplot as plt"
   ]
  },
  {
   "cell_type": "code",
   "execution_count": 7,
   "metadata": {},
   "outputs": [
    {
     "data": {
      "text/plain": [
       "['__builtins__',\n",
       " '__cached__',\n",
       " '__doc__',\n",
       " '__file__',\n",
       " '__loader__',\n",
       " '__name__',\n",
       " '__package__',\n",
       " '__path__',\n",
       " '__spec__',\n",
       " 'check_by',\n",
       " 'common_params',\n",
       " 'get_trajectories',\n",
       " 'make_plot',\n",
       " 'plot_check_by',\n",
       " 'plot_intervals']"
      ]
     },
     "execution_count": 7,
     "metadata": {},
     "output_type": "execute_result"
    }
   ],
   "source": [
    "dir(model.utils)"
   ]
  },
  {
   "cell_type": "code",
   "execution_count": 2,
   "metadata": {},
   "outputs": [],
   "source": [
    "lines = []"
   ]
  },
  {
   "cell_type": "code",
   "execution_count": 3,
   "metadata": {},
   "outputs": [],
   "source": [
    "class Society_car_prices(model.Society):\n",
    "    def _run(self, step: int) -> None:\n",
    "        current_year = (step) // 12\n",
    "        current_month = (step) % 12\n",
    "        for customer in self.customers:\n",
    "            if customer.have_working_car(current_year, current_month):\n",
    "                continue\n",
    "            annual_cost = self._get_annual_cost(customer, current_year, current_month)\n",
    "            if annual_cost[EV] == min(annual_cost.values()):\n",
    "                customer.buy(EV, current_year, current_month)\n",
    "                lines.append(\"cost EV\")\n",
    "                continue\n",
    "            if annual_cost[PHEV] == min(annual_cost.values()):\n",
    "                customer.buy(PHEV, current_year, current_month)\n",
    "                lines.append(\"cost PHEV\")\n",
    "                continue\n",
    "            if self.public_charging_nerby(customer):\n",
    "                if self.alpha < random():\n",
    "                    lines.append(\"other reasons\")\n",
    "                    customer.buy(EV, current_year, current_month)\n",
    "                    continue\n",
    "                lines.append(\"public chargers nerby\")\n",
    "                customer.choose(EV, PHEV, current_year, current_month)\n",
    "                continue\n",
    "            # if self.public_charging_nerby(customer) and self.alpha < random():\n",
    "            #     customer.choose(EV, PHEV, current_year, current_month)\n",
    "            # customer.buy(CV, current_year, current_month)\n",
    "            customer.choose(CV, PHEV, current_year, current_month)\n",
    "            lines.append(\"cost CV\")"
   ]
  },
  {
   "cell_type": "code",
   "execution_count": 4,
   "metadata": {},
   "outputs": [],
   "source": [
    "N = 1000\n",
    "T = 90\n",
    "get_full_path = lambda x: os.sep.join([\"..\", \"data\", x])\n",
    "energy_prices = get_full_path(\"energy_price.csv\")\n",
    "fuel_prices = get_full_path(\"fuel_price.csv\")\n",
    "nerby_radius = 10\n",
    "city_size = (500, 500)\n",
    "alpha = 0.01\n",
    "corporation_margin = 0.2\n",
    "corporation_technological_progress = 0.0004\n",
    "initial_public_chargers = 100\n",
    "initial_time = (2015, 1)"
   ]
  },
  {
   "cell_type": "code",
   "execution_count": 5,
   "metadata": {},
   "outputs": [
    {
     "ename": "TypeError",
     "evalue": "Society.__init__() takes 9 positional arguments but 12 were given",
     "output_type": "error",
     "traceback": [
      "\u001b[0;31m---------------------------------------------------------------------------\u001b[0m",
      "\u001b[0;31mTypeError\u001b[0m                                 Traceback (most recent call last)",
      "Cell \u001b[0;32mIn[5], line 1\u001b[0m\n\u001b[0;32m----> 1\u001b[0m soc \u001b[38;5;241m=\u001b[39m \u001b[43mSociety_car_prices\u001b[49m\u001b[43m(\u001b[49m\n\u001b[1;32m      2\u001b[0m \u001b[43m    \u001b[49m\u001b[43mN\u001b[49m\u001b[43m,\u001b[49m\n\u001b[1;32m      3\u001b[0m \u001b[43m    \u001b[49m\u001b[43malpha\u001b[49m\u001b[43m,\u001b[49m\n\u001b[1;32m      4\u001b[0m \u001b[43m    \u001b[49m\u001b[43mmodel\u001b[49m\u001b[38;5;241;43m.\u001b[39;49m\u001b[43mGovernmentBuildChargingStation\u001b[49m\u001b[43m(\u001b[49m\u001b[43m)\u001b[49m\u001b[43m,\u001b[49m\n\u001b[1;32m      5\u001b[0m \u001b[43m    \u001b[49m\u001b[43mcorporation_margin\u001b[49m\u001b[43m,\u001b[49m\n\u001b[1;32m      6\u001b[0m \u001b[43m    \u001b[49m\u001b[43mcorporation_technological_progress\u001b[49m\u001b[43m,\u001b[49m\n\u001b[1;32m      7\u001b[0m \u001b[43m    \u001b[49m\u001b[43mcity_size\u001b[49m\u001b[43m,\u001b[49m\n\u001b[1;32m      8\u001b[0m \u001b[43m    \u001b[49m\u001b[43mnerby_radius\u001b[49m\u001b[43m,\u001b[49m\n\u001b[1;32m      9\u001b[0m \u001b[43m    \u001b[49m\u001b[43minitial_public_chargers\u001b[49m\u001b[43m,\u001b[49m\n\u001b[1;32m     10\u001b[0m \u001b[43m    \u001b[49m\u001b[43minitial_time\u001b[49m\u001b[43m,\u001b[49m\n\u001b[1;32m     11\u001b[0m \u001b[43m    \u001b[49m\u001b[43menergy_prices\u001b[49m\u001b[43m,\u001b[49m\n\u001b[1;32m     12\u001b[0m \u001b[43m    \u001b[49m\u001b[43mfuel_prices\u001b[49m\u001b[43m,\u001b[49m\n\u001b[1;32m     13\u001b[0m \u001b[43m)\u001b[49m\n\u001b[1;32m     14\u001b[0m soc\u001b[38;5;241m.\u001b[39mrun(T)\n",
      "\u001b[0;31mTypeError\u001b[0m: Society.__init__() takes 9 positional arguments but 12 were given"
     ]
    }
   ],
   "source": [
    "soc = Society_car_prices(\n",
    "    N,\n",
    "    alpha,\n",
    "    model.GovernmentBuildChargingStation(),\n",
    "    corporation_margin,\n",
    "    corporation_technological_progress,\n",
    "    city_size,\n",
    "    nerby_radius,\n",
    "    initial_public_chargers,\n",
    "    initial_time,\n",
    "    energy_prices,\n",
    "    fuel_prices,\n",
    ")\n",
    "soc.run(T)"
   ]
  },
  {
   "cell_type": "code",
   "execution_count": null,
   "metadata": {},
   "outputs": [],
   "source": [
    "# max([line[\"EV\"] for line in lines])\n",
    "import numpy as np\n",
    "\n",
    "np.array(lines)\n",
    "len(lines)"
   ]
  },
  {
   "cell_type": "code",
   "execution_count": null,
   "metadata": {},
   "outputs": [],
   "source": [
    "plt.boxplot(pd.DataFrame(lines))"
   ]
  },
  {
   "cell_type": "code",
   "execution_count": null,
   "metadata": {},
   "outputs": [],
   "source": []
  }
 ],
 "metadata": {
  "kernelspec": {
   "display_name": "Python 3.11.3 ('magisterka-gfehrrZQ-py3.11')",
   "language": "python",
   "name": "python3"
  },
  "language_info": {
   "codemirror_mode": {
    "name": "ipython",
    "version": 3
   },
   "file_extension": ".py",
   "mimetype": "text/x-python",
   "name": "python",
   "nbconvert_exporter": "python",
   "pygments_lexer": "ipython3",
   "version": "3.11.3"
  },
  "orig_nbformat": 4,
  "vscode": {
   "interpreter": {
    "hash": "defc96318194b7231653b87f50e55fed5628e849e10c1aee8ce9b1b92a1b25b6"
   }
  }
 },
 "nbformat": 4,
 "nbformat_minor": 2
}
