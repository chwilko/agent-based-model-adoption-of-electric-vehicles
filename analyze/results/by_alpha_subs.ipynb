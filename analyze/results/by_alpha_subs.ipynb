{
    "cells": [
        {
            "cell_type": "code",
            "execution_count": 1,
            "metadata": {},
            "outputs": [],
            "source": [
                "import os\n",
                "import matplotlib.pyplot as plt\n",
                "\n",
                "from utils import add_path, save_in\n",
                "\n",
                "add_path()\n",
                "\n",
                "from model import (\n",
                "    SocietyConstantsEnergyPrices,\n",
                "    GovernmentBuildChargingStation,\n",
                "    GovernmentMixedStrategy,\n",
                "    GovernmentProvidesSubsidies,\n",
                "    CV,\n",
                "    EV,\n",
                "    PHEV,\n",
                ")\n",
                "from model.utils import (\n",
                "    get_trajectories,\n",
                "    common_params,\n",
                "    plot_intervals,\n",
                "    check_by,\n",
                "    plot_check_by,\n",
                ")\n",
                "from common import MC, T, common_initial_settings\n",
                "common_initial_settings()\n"
            ]
        },
        {
            "cell_type": "code",
            "execution_count": 2,
            "metadata": {},
            "outputs": [
                {
                    "data": {
                        "text/plain": [
                            "{'T': 300,\n",
                            " 'kwargs': {'alpha': 0.01,\n",
                            "  'car_price_noise': <function model.utils.common_params.<lambda>()>,\n",
                            "  'city_size': (17, 17),\n",
                            "  'corporation_margin': 0.2,\n",
                            "  'corporation_technological_progress': 0.004,\n",
                            "  'energy_price': 500,\n",
                            "  'energy_factor': 0.8,\n",
                            "  'fuel_price': 6,\n",
                            "  'government': <model.Government.GovernmentProvidesSubsidies at 0x7f9596457d50>,\n",
                            "  'initial_public_chargers': 1,\n",
                            "  'initial_time': (2015, 1),\n",
                            "  'nerby_radius': 1,\n",
                            "  'population': 3000}}"
                        ]
                    },
                    "execution_count": 2,
                    "metadata": {},
                    "output_type": "execute_result"
                }
            ],
            "source": [
                "\n",
                "N = common_params[\"kwargs\"][\"population\"]\n",
                "\n",
                "param = \"alpha\"\n",
                "param_list = [0.01, 0.1, 0.4, 0.6]\n",
                "name = \"by_alpha_subs.png\"\n",
                "title = r\"Influence of different values of $\\alpha$ on the market shares in the pss.\"\n",
                "\n",
                "common_params[\"kwargs\"][\"government\"] = GovernmentProvidesSubsidies()\n",
                "common_params"
            ]
        },
        {
            "cell_type": "code",
            "execution_count": 3,
            "metadata": {},
            "outputs": [
                {
                    "name": "stderr",
                    "output_type": "stream",
                    "text": [
                        "  0%|          | 0/4 [00:00<?, ?it/s]"
                    ]
                },
                {
                    "ename": "",
                    "evalue": "",
                    "output_type": "error",
                    "traceback": [
                        "\u001b[1;31mCanceled future for execute_request message before replies were done"
                    ]
                },
                {
                    "ename": "",
                    "evalue": "",
                    "output_type": "error",
                    "traceback": [
                        "\u001b[1;31mThe Kernel crashed while executing code in the the current cell or a previous cell. Please review the code in the cell(s) to identify a possible cause of the failure. Click <a href='https://aka.ms/vscodeJupyterKernelCrash'>here</a> for more info. View Jupyter <a href='command:jupyter.viewOutput'>log</a> for further details."
                    ]
                }
            ],
            "source": [
                "\n",
                "values = check_by(\n",
                "    SocietyConstantsEnergyPrices, common_params[\"kwargs\"], param, param_list, T, MC, 4\n",
                ")\n"
            ]
        },
        {
            "cell_type": "code",
            "execution_count": null,
            "metadata": {},
            "outputs": [],
            "source": [
                "fig, axs = plt.subplots(nrows=3, figsize=(8, 8))\n",
                "plot_check_by(values, axs)\n",
                "\n",
                "fig.set_facecolor('white')\n",
                "fig.suptitle(title, fontsize=16, y=1)\n",
                "\n",
                "for ax in axs:\n",
                "    ax.set_xlabel(\"Year\")\n",
                "    ax.grid(alpha=0.1)\n",
                "\n",
                "axs[0].set_title(CV)\n",
                "axs[1].set_title(EV)\n",
                "axs[2].set_title(PHEV)\n",
                "fig.tight_layout()\n",
                "fig.legend(\n",
                "    param_list,\n",
                "    title=param.replace(\"_\", \" \"),\n",
                "    loc=\"lower center\",\n",
                "    bbox_to_anchor=(1/2, -0.05),\n",
                "    ncol=len(param),\n",
                ")\n",
                "\n",
                "save_in(name)\n",
                "print(name)"
            ]
        }
    ],
    "metadata": [
        {
            "kernelspec": {
                "display_name": "Python 3.8.10 64-bit",
                "language": "python",
                "name": "python3"
            },
            "language_info": {
                "codemirror_mode": {
                    "name": "ipython",
                    "version": 3
                },
                "file_extension": ".py",
                "mimetype": "text/x-python",
                "name": "python",
                "nbconvert_exporter": "python",
                "pygments_lexer": "ipython3",
                "version": "3.8.10"
            },
            "orig_nbformat": 4,
            "vscode": {
                "interpreter": {
                    "hash": "916dbcbb3f70747c44a77c7bcd40155683ae19c65e1c03b4aa3499c5328201f1"
                }
            }
        }
    ],
    "nbformat": [
        4
    ],
    "nbformat_minor": 2
}
