{
 "cells": [
  {
   "cell_type": "code",
   "execution_count": 1,
   "metadata": {},
   "outputs": [],
   "source": [
    "import os\n",
    "import pandas as pd\n",
    "import numpy as np"
   ]
  },
  {
   "cell_type": "code",
   "execution_count": 2,
   "metadata": {},
   "outputs": [],
   "source": [
    "euro_file = os.sep.join([\"..\", \"data\", \"eurpln_d.csv\"])\n",
    "get_full_path = lambda x: os.sep.join([\"..\", \"data\", \"energy_row\", x])\n",
    "output_file = os.sep.join([\"..\", \"data\", \"energy_price.csv\"])"
   ]
  },
  {
   "cell_type": "code",
   "execution_count": 3,
   "metadata": {},
   "outputs": [],
   "source": [
    "datas = sorted(os.listdir(os.sep.join([\"..\", \"data\", \"energy_row\"])))"
   ]
  },
  {
   "cell_type": "code",
   "execution_count": 4,
   "metadata": {},
   "outputs": [],
   "source": [
    "df_euro = pd.read_csv(euro_file)"
   ]
  },
  {
   "cell_type": "code",
   "execution_count": 5,
   "metadata": {},
   "outputs": [],
   "source": [
    "column = [\"full_data\", \"DA\", \"currency\", \"empty\"]\n",
    "\n",
    "\n",
    "def set_cols(df):\n",
    "    df.columns = column\n",
    "    return df\n",
    "\n",
    "\n",
    "df = pd.concat(\n",
    "    [set_cols(pd.read_csv(get_full_path(path))) for path in datas], ignore_index=True\n",
    ")\n",
    "\n",
    "df[\"date\"] = df[\"full_data\"].apply(lambda x: \"-\".join(x[:10].split(\".\")[::-1]))\n",
    "# df[\"date\"] = pd.to_datetime(df[\"date\"])\n",
    "df = df[df[\"currency\"].notna() & df[\"DA\"].notna()]\n",
    "\n",
    "\n",
    "def to_number(x):\n",
    "    try:\n",
    "        return float(x)\n",
    "    except:\n",
    "        None\n",
    "\n",
    "\n",
    "df[\"price\"] = df[\"DA\"].apply(lambda x: to_number(x))\n",
    "\n",
    "\n",
    "\n",
    "df[\"price\"] = df.apply(\n",
    "    lambda row: row[\"price\"]\n",
    "    if row[\"currency\"] == \"PLN\"\n",
    "    else df_euro.loc[df_euro[\"Data\"] == row[\"date\"], \"Zamkniecie\"].values[0]\n",
    "    if df_euro[\"Data\"].isin([row[\"date\"]]).any()\n",
    "    else None,\n",
    "    axis=1,\n",
    ")\n",
    "\n",
    "df[\"currency\"] = df.apply(\n",
    "    lambda row: \"PLN\",\n",
    "    axis=1,\n",
    ")\n",
    "df = df[~df.price.isna()]\n",
    "\n",
    "df[\"year\"] = df[\"date\"].apply(lambda x: x.split(\"-\")[0])\n",
    "df[\"month\"] = df[\"date\"].apply(lambda x: x.split(\"-\")[1])\n",
    "df[\"day\"] = df[\"date\"].apply(lambda x: x.split(\"-\")[2])\n",
    "\n",
    "df = df[[\"year\", \"month\", \"day\", \"price\"]]\n"
   ]
  },
  {
   "cell_type": "code",
   "execution_count": 6,
   "metadata": {},
   "outputs": [
    {
     "data": {
      "text/html": [
       "<div>\n",
       "<style scoped>\n",
       "    .dataframe tbody tr th:only-of-type {\n",
       "        vertical-align: middle;\n",
       "    }\n",
       "\n",
       "    .dataframe tbody tr th {\n",
       "        vertical-align: top;\n",
       "    }\n",
       "\n",
       "    .dataframe thead th {\n",
       "        text-align: right;\n",
       "    }\n",
       "</style>\n",
       "<table border=\"1\" class=\"dataframe\">\n",
       "  <thead>\n",
       "    <tr style=\"text-align: right;\">\n",
       "      <th></th>\n",
       "      <th>year</th>\n",
       "      <th>month</th>\n",
       "      <th>day</th>\n",
       "      <th>price</th>\n",
       "    </tr>\n",
       "  </thead>\n",
       "  <tbody>\n",
       "    <tr>\n",
       "      <th>96</th>\n",
       "      <td>2015</td>\n",
       "      <td>01</td>\n",
       "      <td>05</td>\n",
       "      <td>4.2845</td>\n",
       "    </tr>\n",
       "    <tr>\n",
       "      <th>97</th>\n",
       "      <td>2015</td>\n",
       "      <td>01</td>\n",
       "      <td>05</td>\n",
       "      <td>4.2845</td>\n",
       "    </tr>\n",
       "    <tr>\n",
       "      <th>98</th>\n",
       "      <td>2015</td>\n",
       "      <td>01</td>\n",
       "      <td>05</td>\n",
       "      <td>4.2845</td>\n",
       "    </tr>\n",
       "    <tr>\n",
       "      <th>99</th>\n",
       "      <td>2015</td>\n",
       "      <td>01</td>\n",
       "      <td>05</td>\n",
       "      <td>4.2845</td>\n",
       "    </tr>\n",
       "    <tr>\n",
       "      <th>100</th>\n",
       "      <td>2015</td>\n",
       "      <td>01</td>\n",
       "      <td>05</td>\n",
       "      <td>4.2845</td>\n",
       "    </tr>\n",
       "  </tbody>\n",
       "</table>\n",
       "</div>"
      ],
      "text/plain": [
       "     year month day   price\n",
       "96   2015    01  05  4.2845\n",
       "97   2015    01  05  4.2845\n",
       "98   2015    01  05  4.2845\n",
       "99   2015    01  05  4.2845\n",
       "100  2015    01  05  4.2845"
      ]
     },
     "execution_count": 6,
     "metadata": {},
     "output_type": "execute_result"
    }
   ],
   "source": [
    "df.head()"
   ]
  },
  {
   "cell_type": "code",
   "execution_count": 7,
   "metadata": {},
   "outputs": [],
   "source": [
    "df.to_csv(output_file)"
   ]
  }
 ],
 "metadata": {
  "kernelspec": {
   "display_name": "Python 3.11.3 ('magisterka-gfehrrZQ-py3.11')",
   "language": "python",
   "name": "python3"
  },
  "language_info": {
   "codemirror_mode": {
    "name": "ipython",
    "version": 3
   },
   "file_extension": ".py",
   "mimetype": "text/x-python",
   "name": "python",
   "nbconvert_exporter": "python",
   "pygments_lexer": "ipython3",
   "version": "3.11.3"
  },
  "orig_nbformat": 4,
  "vscode": {
   "interpreter": {
    "hash": "defc96318194b7231653b87f50e55fed5628e849e10c1aee8ce9b1b92a1b25b6"
   }
  }
 },
 "nbformat": 4,
 "nbformat_minor": 2
}
