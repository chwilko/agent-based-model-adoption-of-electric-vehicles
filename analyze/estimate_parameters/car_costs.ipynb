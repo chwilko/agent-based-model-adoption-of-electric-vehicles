{
 "cells": [
  {
   "cell_type": "code",
   "execution_count": 11,
   "metadata": {},
   "outputs": [],
   "source": [
    "import os\n",
    "\n",
    "from typing import Dict\n",
    "import pandas as pd\n",
    "import seaborn as sns\n",
    "import matplotlib.pyplot as plt\n",
    "\n",
    "from utils import add_path\n",
    "\n",
    "add_path()\n",
    "\n",
    "import model\n",
    "from model.utils import common_params\n",
    "from model import EV, PHEV, CV"
   ]
  },
  {
   "cell_type": "code",
   "execution_count": 12,
   "metadata": {},
   "outputs": [],
   "source": [
    "plt.style.use(\"dark_background\")\n",
    "plt.rc(\"grid\", alpha=0.3)"
   ]
  },
  {
   "cell_type": "code",
   "execution_count": 13,
   "metadata": {},
   "outputs": [],
   "source": [
    "# lines = []\n",
    "cp = model.utils.common_params.copy()"
   ]
  },
  {
   "cell_type": "code",
   "execution_count": 14,
   "metadata": {},
   "outputs": [],
   "source": [
    "class Society_car_prices(model.SocietyConstantsEnergyPrices):\n",
    "    def _set_unique_initial(self, **kwargs):\n",
    "        self.lines = []\n",
    "        return super()._set_unique_initial(**kwargs)\n",
    "\n",
    "    def _get_annual_cost(\n",
    "        self, customer: model.Customer, year: int, month: int\n",
    "    ) -> Dict[model.CarTypes, float]:\n",
    "        val = super()._get_annual_cost(customer, year, month)\n",
    "        self.lines.append(val)\n",
    "        return val"
   ]
  },
  {
   "cell_type": "code",
   "execution_count": 15,
   "metadata": {},
   "outputs": [],
   "source": [
    "MC = 100\n",
    "T = cp[\"T\"]\n",
    "cp[\"kwargs\"][\"car_price_noise\"] = lambda: 0"
   ]
  },
  {
   "cell_type": "code",
   "execution_count": 16,
   "metadata": {},
   "outputs": [
    {
     "data": {
      "text/plain": [
       "{'T': 300,\n",
       " 'kwargs': {'alpha': 0.01,\n",
       "  'car_price_noise': <function __main__.<lambda>()>,\n",
       "  'city_size': (17, 17),\n",
       "  'corporation_margin': 0.2,\n",
       "  'corporation_technological_progress': 0.004,\n",
       "  'energy_price': 500,\n",
       "  'energy_factor': 0.8,\n",
       "  'fuel_price': 10,\n",
       "  'government': <model.Government.GovernmentBuildChargingStation at 0x7efc3fdeca90>,\n",
       "  'initial_public_chargers': 1,\n",
       "  'initial_time': (2015, 1),\n",
       "  'nerby_radius': 1,\n",
       "  'population': 3000}}"
      ]
     },
     "execution_count": 16,
     "metadata": {},
     "output_type": "execute_result"
    }
   ],
   "source": [
    "cp"
   ]
  },
  {
   "cell_type": "code",
   "execution_count": 17,
   "metadata": {},
   "outputs": [],
   "source": [
    "soc = Society_car_prices(**cp[\"kwargs\"])\n",
    "soc.run(T)"
   ]
  },
  {
   "cell_type": "code",
   "execution_count": 18,
   "metadata": {},
   "outputs": [
    {
     "data": {
      "text/plain": [
       "29580.325714285715"
      ]
     },
     "execution_count": 18,
     "metadata": {},
     "output_type": "execute_result"
    }
   ],
   "source": [
    "max([line[EV] for line in soc.lines])"
   ]
  },
  {
   "cell_type": "code",
   "execution_count": 19,
   "metadata": {},
   "outputs": [
    {
     "data": {
      "text/plain": [
       "<Axes: >"
      ]
     },
     "execution_count": 19,
     "metadata": {},
     "output_type": "execute_result"
    },
    {
     "data": {
      "image/png": "[encoded data removed]",
      "text/plain": [
       "<Figure size 640x480 with 1 Axes>"
      ]
     },
     "metadata": {},
     "output_type": "display_data"
    }
   ],
   "source": [
    "sns.boxenplot(pd.DataFrame(soc.lines))"
   ]
  },
  {
   "cell_type": "code",
   "execution_count": 20,
   "metadata": {},
   "outputs": [
    {
     "data": {
      "text/plain": [
       "{'CV': 105750.0, 'BEV': 165750.0, 'PHEV': 132083.33333333334}"
      ]
     },
     "execution_count": 20,
     "metadata": {},
     "output_type": "execute_result"
    }
   ],
   "source": [
    "soc.corporations.car_costs"
   ]
  }
 ],
 "metadata": {
  "kernelspec": {
   "display_name": "Python 3.11.3 ('magisterka-gfehrrZQ-py3.11')",
   "language": "python",
   "name": "python3"
  },
  "language_info": {
   "codemirror_mode": {
    "name": "ipython",
    "version": 3
   },
   "file_extension": ".py",
   "mimetype": "text/x-python",
   "name": "python",
   "nbconvert_exporter": "python",
   "pygments_lexer": "ipython3",
   "version": "3.11.3"
  },
  "orig_nbformat": 4,
  "vscode": {
   "interpreter": {
    "hash": "defc96318194b7231653b87f50e55fed5628e849e10c1aee8ce9b1b92a1b25b6"
   }
  }
 },
 "nbformat": 4,
 "nbformat_minor": 2
}
