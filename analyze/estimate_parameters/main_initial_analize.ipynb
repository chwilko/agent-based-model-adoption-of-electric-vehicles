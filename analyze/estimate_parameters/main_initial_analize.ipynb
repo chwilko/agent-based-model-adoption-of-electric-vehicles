{
 "cells": [
  {
   "cell_type": "markdown",
   "metadata": {},
   "source": [
    "In this notebook I show model initial environment."
   ]
  },
  {
   "cell_type": "code",
   "execution_count": null,
   "metadata": {},
   "outputs": [],
   "source": [
    "import os\n",
    "import matplotlib.pyplot as plt\n",
    "import seaborn as sns\n",
    "\n",
    "import numpy as np\n",
    "from random import random\n",
    "from utils import add_path, save_in\n",
    "\n",
    "add_path()\n",
    "\n",
    "from model import (\n",
    "    SocietyConstantsEnergyPrices,\n",
    "    GovernmentBuildChargingStation,\n",
    "    GovernmentCloseChargingStation,\n",
    "    GovernmentMixedStrategy,\n",
    ")\n",
    "from model.utils import common_params\n",
    "from model import EV, CV, PHEV\n"
   ]
  },
  {
   "cell_type": "code",
   "execution_count": null,
   "metadata": {},
   "outputs": [],
   "source": [
    "# plt.style.use(\"dark_background\")\n",
    "# plt.style.use(\"grayscale\")\n",
    "plt.rc(\"grid\", alpha=0.3)"
   ]
  },
  {
   "cell_type": "code",
   "execution_count": null,
   "metadata": {},
   "outputs": [],
   "source": [
    "car_types = [CV, PHEV, EV]\n",
    "colors = {\n",
    "    CV: \"#3274A1\",\n",
    "    PHEV: \"#E1812C\",\n",
    "    EV: \"#3A923A\",\n",
    "    }\n"
   ]
  },
  {
   "cell_type": "code",
   "execution_count": null,
   "metadata": {},
   "outputs": [],
   "source": [
    "pop = 673_900\n",
    "\n",
    "area = 293  # [km^2]\n",
    "print(pop / area)\n",
    "print(((area / 100) ** 0.5) * 10)"
   ]
  },
  {
   "cell_type": "markdown",
   "metadata": {},
   "source": [
    "przyjmuje skale 1:100\n",
    "\n",
    "miasto 1j = 100m \n",
    "(54, 54)\n",
    "populację 6_500, a osób posiadających auta 3_000\n",
    "początkowa liczba ładowarek 6"
   ]
  },
  {
   "cell_type": "code",
   "execution_count": null,
   "metadata": {},
   "outputs": [],
   "source": [
    "(17 / 10) ** 2"
   ]
  },
  {
   "cell_type": "code",
   "execution_count": null,
   "metadata": {},
   "outputs": [],
   "source": [
    "(54 / 10) ** 2"
   ]
  },
  {
   "cell_type": "code",
   "execution_count": null,
   "metadata": {},
   "outputs": [],
   "source": [
    "T = 100\n",
    "T = 12 * 50\n",
    "\n",
    "# get_full_path = lambda x: os.sep.join([\"data\", x])\n",
    "# energy_price = 6\n",
    "# fuel_price = 600\n",
    "# nerby_radius = 10\n",
    "# city_size = (200, 200)\n",
    "# alpha = 0.01\n",
    "# corporation_margin = 0.2\n",
    "# corporation_technological_progress = 0.0004\n",
    "# initial_public_chargers = 100\n",
    "# initial_time = (2015, 1)\n",
    "\n",
    "# car_price_noise = lambda: random() * 10_000 - 5_000"
   ]
  },
  {
   "cell_type": "code",
   "execution_count": null,
   "metadata": {},
   "outputs": [],
   "source": [
    "common_params[\"kwargs\"][\"government\"] = GovernmentMixedStrategy()"
   ]
  },
  {
   "cell_type": "code",
   "execution_count": null,
   "metadata": {},
   "outputs": [],
   "source": [
    "# common_params[\"kwargs\"][\"nerby_radius\"] = 2\n",
    "# common_params[\"kwargs\"][\"population\"] = 65_000\n",
    "# common_params[\"kwargs\"][\"city_size\"] = (54, 54)\n",
    "# common_params[\"kwargs\"][\"initial_public_chargers\"] = 6\n",
    "common_params[\"kwargs\"]"
   ]
  },
  {
   "cell_type": "code",
   "execution_count": null,
   "metadata": {},
   "outputs": [],
   "source": [
    "class TmpSociety(SocietyConstantsEnergyPrices):\n",
    "    def _set_unique_initial(self, **kwargs):\n",
    "        self.coverage = []\n",
    "        return super()._set_unique_initial(**kwargs)\n",
    "\n",
    "    def _run(self, current_year: int, current_month: int) -> None:\n",
    "        if current_month == 0:\n",
    "            self.coverage.append(0)\n",
    "            for customer in self.customers:\n",
    "                if self.public_charging_nerby(customer):\n",
    "                    self.coverage[-1] += 1\n",
    "            self.coverage[-1] /= len(self.customers)\n",
    "        return super()._run(current_year, current_month)"
   ]
  },
  {
   "cell_type": "code",
   "execution_count": null,
   "metadata": {},
   "outputs": [],
   "source": [
    "fig, axs = plt.subplots(nrows=3, figsize=(5, 5))\n",
    "soc = SocietyConstantsEnergyPrices(**common_params[\"kwargs\"])\n",
    "nerby_radius = common_params[\"kwargs\"][\"nerby_radius\"]\n",
    "initial_chargers = soc.city.charger_pos\n",
    "customers = soc.customers\n",
    "\n",
    "car_ages = {}\n",
    "for c_type in car_types:\n",
    "    car_ages[c_type] = []\n",
    "\n",
    "for customer in customers:\n",
    "    current_car = customer.car\n",
    "    car_ages[current_car.car_type].append(current_car.age(0,1)//1)\n",
    "\n",
    "for i, c_type in enumerate(car_types):\n",
    "    sns.countplot(ax=axs[i], x = car_ages[c_type])\n",
    "\n",
    "\n",
    "plt.legend(bbox_to_anchor=(1, 1))\n",
    "save_in(\"initialCity\", \"pictures\", plt)"
   ]
  },
  {
   "cell_type": "code",
   "execution_count": null,
   "metadata": {},
   "outputs": [],
   "source": [
    "fig, ax = plt.subplots(figsize=(5, 5))\n",
    "soc = TmpSociety(**common_params[\"kwargs\"])\n",
    "nerby_radius = common_params[\"kwargs\"][\"nerby_radius\"]\n",
    "initial_chargers = soc.city.charger_pos\n",
    "customers = soc.customers\n",
    "ax.axis(\"equal\")\n",
    "ax.scatter(\n",
    "    initial_chargers[:, 0],\n",
    "    initial_chargers[:, 1],\n",
    "    alpha=0.3,\n",
    "    # s=1000\n",
    "    s=3.1415926 * 300 * nerby_radius**2,\n",
    "    c=\"gray\",\n",
    "    label= \"public charger\"\n",
    ")\n",
    "customers_X = np.array([cus.home[0] for cus in customers])\n",
    "customers_Y = np.array([cus.home[1] for cus in customers])\n",
    "owner = {}\n",
    "for c_type in car_types:\n",
    "    owner[c_type] = np.array([cus.get_car_type() == c_type for cus in customers])\n",
    "\n",
    "for c_type in car_types:\n",
    "    ax.scatter(customers_X[owner[c_type]], customers_Y[owner[c_type]], s=2, c=colors[c_type], label=f\"{c_type} car owner\")\n",
    "\n",
    "fig.legend(\n",
    "    ncol=4,\n",
    "    loc=\"lower center\",\n",
    "    bbox_to_anchor=(1/2, -0.05),\n",
    ")\n",
    "save_in(\"initialCity\", \"pictures\", plt)"
   ]
  },
  {
   "cell_type": "code",
   "execution_count": null,
   "metadata": {},
   "outputs": [],
   "source": [
    "fig, ax = plt.subplots(figsize=(5, 5))\n",
    "soc = TmpSociety(**common_params[\"kwargs\"])\n",
    "nerby_radius = common_params[\"kwargs\"][\"nerby_radius\"]\n",
    "initial_chargers = soc.city.charger_pos\n",
    "customers = soc.customers\n",
    "ax.axis(\"equal\")\n",
    "ax.scatter(\n",
    "    initial_chargers[:, 0],\n",
    "    initial_chargers[:, 1],\n",
    "    alpha=0.3,\n",
    "    # s=1000\n",
    "    s=3.1415926 * 300 * nerby_radius**2,\n",
    ")\n",
    "customers_X = np.array([cus.home[0] for cus in customers])\n",
    "customers_Y = np.array([cus.home[1] for cus in customers])\n",
    "is_nerby_array = np.zeros(len(soc.customers))\n",
    "\n",
    "for i, customer in enumerate(soc.customers):\n",
    "    if soc.public_charging_nerby(customer):\n",
    "        is_nerby_array[i] = 1\n",
    "\n",
    "ax.scatter(\n",
    "    customers_X[is_nerby_array == 1], customers_Y[is_nerby_array == 1], s=2, c=\"g\"\n",
    ")\n",
    "ax.scatter(\n",
    "    customers_X[is_nerby_array == 0], customers_Y[is_nerby_array == 0], s=2, c=\"r\"\n",
    ")"
   ]
  },
  {
   "cell_type": "code",
   "execution_count": null,
   "metadata": {},
   "outputs": [],
   "source": [
    "soc.run(T - 1)"
   ]
  },
  {
   "cell_type": "code",
   "execution_count": null,
   "metadata": {},
   "outputs": [],
   "source": [
    "initial_chargers = soc.city.charger_pos\n",
    "customers = soc.customers\n",
    "plt.scatter(\n",
    "    initial_chargers[:, 0],\n",
    "    initial_chargers[:, 1],\n",
    "    alpha=0.3,\n",
    "    s=3.1415926 * 25 * 13 * nerby_radius**2,\n",
    ")\n",
    "customers_X = np.array([cus.home[0] for cus in customers])\n",
    "customers_Y = np.array([cus.home[1] for cus in customers])\n",
    "is_nerby_array = np.zeros(len(soc.customers))\n",
    "ax.axis(\"equal\")\n",
    "\n",
    "for i, customer in enumerate(soc.customers):\n",
    "    if soc.public_charging_nerby(customer):\n",
    "        is_nerby_array[i] = 1\n",
    "\n",
    "plt.scatter(\n",
    "    customers_X[is_nerby_array == 1], customers_Y[is_nerby_array == 1], s=1, c=\"g\"\n",
    ")\n",
    "plt.scatter(\n",
    "    customers_X[is_nerby_array == 0], customers_Y[is_nerby_array == 0], s=1, c=\"r\"\n",
    ")"
   ]
  },
  {
   "cell_type": "code",
   "execution_count": null,
   "metadata": {},
   "outputs": [],
   "source": [
    "soc.city.count_chargers()"
   ]
  },
  {
   "cell_type": "code",
   "execution_count": null,
   "metadata": {},
   "outputs": [],
   "source": [
    "fig, ax = plt.subplots()\n",
    "fig.set_facecolor(\"white\")\n",
    "\n",
    "ax.plot(range((T - 1) // 12), soc.coverage)\n",
    "ax.set_title(\"A fraction of Customers with access to public chargers.\")\n",
    "ax.set_xlabel(\"year\")\n",
    "ax.set_ylabel(\"fraction\")\n",
    "ax.grid(color=\"gray\")\n",
    "ax.grid(alpha=0.3)"
   ]
  },
  {
   "cell_type": "code",
   "execution_count": null,
   "metadata": {},
   "outputs": [],
   "source": []
  }
 ],
 "metadata": {
  "kernelspec": {
   "display_name": "Python 3.11.3 ('magisterka-gfehrrZQ-py3.11')",
   "language": "python",
   "name": "python3"
  },
  "language_info": {
   "codemirror_mode": {
    "name": "ipython",
    "version": 3
   },
   "file_extension": ".py",
   "mimetype": "text/x-python",
   "name": "python",
   "nbconvert_exporter": "python",
   "pygments_lexer": "ipython3",
   "version": "3.11.4"
  },
  "orig_nbformat": 4,
  "vscode": {
   "interpreter": {
    "hash": "defc96318194b7231653b87f50e55fed5628e849e10c1aee8ce9b1b92a1b25b6"
   }
  }
 },
 "nbformat": 4,
 "nbformat_minor": 2
}
