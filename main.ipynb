{
 "cells": [
  {
   "cell_type": "code",
   "execution_count": 1,
   "metadata": {},
   "outputs": [],
   "source": [
    "from model import Society\n",
    "import matplotlib.pyplot as plt"
   ]
  },
  {
   "cell_type": "code",
   "execution_count": 2,
   "metadata": {},
   "outputs": [
    {
     "name": "stdout",
     "output_type": "stream",
     "text": [
      "GOV to do!\n",
      "set initial car costs\n",
      "10\n",
      "(100, 100)\n",
      "TODO cost effective\n"
     ]
    },
    {
     "ename": "KeyError",
     "evalue": "'PHEV'",
     "output_type": "error",
     "traceback": [
      "\u001b[0;31m---------------------------------------------------------------------------\u001b[0m",
      "\u001b[0;31mKeyError\u001b[0m                                  Traceback (most recent call last)",
      "Cell \u001b[0;32mIn[2], line 4\u001b[0m\n\u001b[1;32m      2\u001b[0m T \u001b[38;5;241m=\u001b[39m \u001b[38;5;241m100\u001b[39m\n\u001b[1;32m      3\u001b[0m soc \u001b[38;5;241m=\u001b[39m Society(N, \u001b[38;5;241m0.01\u001b[39m, \u001b[38;5;241m0.2\u001b[39m, \u001b[38;5;241m0.0004\u001b[39m, (\u001b[38;5;241m100\u001b[39m, \u001b[38;5;241m100\u001b[39m), \u001b[38;5;241m10\u001b[39m, \u001b[38;5;241m10\u001b[39m, (\u001b[38;5;241m2023\u001b[39m, \u001b[38;5;241m5\u001b[39m))\n\u001b[0;32m----> 4\u001b[0m \u001b[43msoc\u001b[49m\u001b[38;5;241;43m.\u001b[39;49m\u001b[43mgo\u001b[49m\u001b[43m(\u001b[49m\u001b[43mT\u001b[49m\u001b[43m \u001b[49m\u001b[38;5;241;43m-\u001b[39;49m\u001b[43m \u001b[49m\u001b[38;5;241;43m1\u001b[39;49m\u001b[43m)\u001b[49m\n\u001b[1;32m      5\u001b[0m data \u001b[38;5;241m=\u001b[39m soc\u001b[38;5;241m.\u001b[39mget_historical_states()\n\u001b[1;32m      6\u001b[0m plt\u001b[38;5;241m.\u001b[39mplot(data[\u001b[38;5;124m\"\u001b[39m\u001b[38;5;124myear\u001b[39m\u001b[38;5;124m\"\u001b[39m], data[\u001b[38;5;124m\"\u001b[39m\u001b[38;5;124mCV\u001b[39m\u001b[38;5;124m\"\u001b[39m], label\u001b[38;5;241m=\u001b[39m\u001b[38;5;124m\"\u001b[39m\u001b[38;5;124mCV\u001b[39m\u001b[38;5;124m\"\u001b[39m)\n",
      "File \u001b[0;32m~/Documents/studia/pwr/praca/magisterka/model/Society.py:142\u001b[0m, in \u001b[0;36mSociety.go\u001b[0;34m(self, N)\u001b[0m\n\u001b[1;32m    140\u001b[0m \u001b[39mfor\u001b[39;00m i \u001b[39min\u001b[39;00m \u001b[39mrange\u001b[39m(\u001b[39m1\u001b[39m, N \u001b[39m+\u001b[39m \u001b[39m1\u001b[39m):\n\u001b[1;32m    141\u001b[0m     \u001b[39mself\u001b[39m\u001b[39m.\u001b[39m_set_states()\n\u001b[0;32m--> 142\u001b[0m     \u001b[39mself\u001b[39;49m\u001b[39m.\u001b[39;49m_go(i)\n\u001b[1;32m    143\u001b[0m \u001b[39mself\u001b[39m\u001b[39m.\u001b[39m_set_states()\n\u001b[1;32m    144\u001b[0m \u001b[39mself\u001b[39m\u001b[39m.\u001b[39mcorporations\u001b[39m.\u001b[39mupdate(\u001b[39mself\u001b[39m\u001b[39m.\u001b[39mhistorical_states[\u001b[39m-\u001b[39m\u001b[39m1\u001b[39m])\n",
      "File \u001b[0;32m~/Documents/studia/pwr/praca/magisterka/model/Society.py:153\u001b[0m, in \u001b[0;36mSociety._go\u001b[0;34m(self, step)\u001b[0m\n\u001b[1;32m    151\u001b[0m \u001b[39mif\u001b[39;00m customer\u001b[39m.\u001b[39mhave_working_car(current_year, current_month):\n\u001b[1;32m    152\u001b[0m     \u001b[39mcontinue\u001b[39;00m\n\u001b[0;32m--> 153\u001b[0m annual_cost \u001b[39m=\u001b[39m \u001b[39mself\u001b[39;49m\u001b[39m.\u001b[39;49m_get_annual_cost(customer, current_month, current_year)\n\u001b[1;32m    154\u001b[0m \u001b[39mif\u001b[39;00m annual_cost[EV] \u001b[39m==\u001b[39m \u001b[39mmin\u001b[39m(annual_cost\u001b[39m.\u001b[39mvalues()):\n\u001b[1;32m    155\u001b[0m     customer\u001b[39m.\u001b[39mbuy(EV, current_year, current_month)\n",
      "File \u001b[0;32m~/Documents/studia/pwr/praca/magisterka/model/Society.py:111\u001b[0m, in \u001b[0;36mSociety._get_annual_cost\u001b[0;34m(self, customer, year, month)\u001b[0m\n\u001b[1;32m    105\u001b[0m \u001b[39mfor\u001b[39;00m c_type \u001b[39min\u001b[39;00m car_types:\n\u001b[1;32m    106\u001b[0m     cost[c_type] \u001b[39m=\u001b[39m \u001b[39mself\u001b[39m\u001b[39m.\u001b[39mcorporations\u001b[39m.\u001b[39mget_price(\n\u001b[1;32m    107\u001b[0m         c_type\n\u001b[1;32m    108\u001b[0m     ) \u001b[39m-\u001b[39m \u001b[39mself\u001b[39m\u001b[39m.\u001b[39mgoverment\u001b[39m.\u001b[39mget_subsidy_val(c_type)\n\u001b[1;32m    110\u001b[0m cost[CV] \u001b[39m+\u001b[39m\u001b[39m=\u001b[39m (\n\u001b[0;32m--> 111\u001b[0m     customers_params[customer\u001b[39m.\u001b[39;49mprofile]\u001b[39m.\u001b[39mmean\n\u001b[1;32m    112\u001b[0m     \u001b[39m*\u001b[39m Car_CV\u001b[39m.\u001b[39mcost_per_km(\u001b[39m*\u001b[39m\u001b[39mself\u001b[39m\u001b[39m.\u001b[39mtime\u001b[39m.\u001b[39mget_current_date(year, month))\n\u001b[1;32m    113\u001b[0m     \u001b[39m*\u001b[39m car_params[CV]\u001b[39m.\u001b[39mlifetime\n\u001b[1;32m    114\u001b[0m )\n\u001b[1;32m    115\u001b[0m cost[PHEV] \u001b[39m+\u001b[39m\u001b[39m=\u001b[39m (\n\u001b[1;32m    116\u001b[0m     customers_params[customer\u001b[39m.\u001b[39mprofile]\u001b[39m.\u001b[39mmean\n\u001b[1;32m    117\u001b[0m     \u001b[39m*\u001b[39m Car_PHEV\u001b[39m.\u001b[39mcost_per_km(\u001b[39m*\u001b[39m\u001b[39mself\u001b[39m\u001b[39m.\u001b[39mtime\u001b[39m.\u001b[39mget_current_date(year, month))\n\u001b[1;32m    118\u001b[0m     \u001b[39m*\u001b[39m car_params[PHEV]\u001b[39m.\u001b[39mlifetime\n\u001b[1;32m    119\u001b[0m )\n\u001b[1;32m    120\u001b[0m cost[EV] \u001b[39m+\u001b[39m\u001b[39m=\u001b[39m (\n\u001b[1;32m    121\u001b[0m     customers_params[customer\u001b[39m.\u001b[39mprofile]\u001b[39m.\u001b[39mmean\n\u001b[1;32m    122\u001b[0m     \u001b[39m*\u001b[39m Car_EV\u001b[39m.\u001b[39mcost_per_km(\u001b[39m*\u001b[39m\u001b[39mself\u001b[39m\u001b[39m.\u001b[39mtime\u001b[39m.\u001b[39mget_current_date(year, month))\n\u001b[1;32m    123\u001b[0m     \u001b[39m*\u001b[39m car_params[EV]\u001b[39m.\u001b[39mlifetime\n\u001b[1;32m    124\u001b[0m )\n",
      "\u001b[0;31mKeyError\u001b[0m: 'PHEV'"
     ]
    }
   ],
   "source": [
    "N = 100\n",
    "T = 100\n",
    "soc = Society(N, 0.01, 0.2, 0.0004, (100, 100), 10, 10, (2023, 5))\n",
    "soc.go(T - 1)\n",
    "data = soc.get_historical_states()\n",
    "plt.plot(data[\"year\"], data[\"CV\"], label=\"CV\")\n",
    "plt.plot(data[\"year\"], data[\"EV\"], label=\"EV\")\n",
    "plt.plot(data[\"year\"], data[\"PHEV\"], label=\"PHEV\")\n",
    "plt.legend()"
   ]
  },
  {
   "cell_type": "code",
   "execution_count": null,
   "metadata": {},
   "outputs": [],
   "source": []
  }
 ],
 "metadata": {
  "kernelspec": {
   "display_name": "Python 3.11.3 ('magisterka-gfehrrZQ-py3.11')",
   "language": "python",
   "name": "python3"
  },
  "language_info": {
   "codemirror_mode": {
    "name": "ipython",
    "version": 3
   },
   "file_extension": ".py",
   "mimetype": "text/x-python",
   "name": "python",
   "nbconvert_exporter": "python",
   "pygments_lexer": "ipython3",
   "version": "3.11.3"
  },
  "orig_nbformat": 4,
  "vscode": {
   "interpreter": {
    "hash": "defc96318194b7231653b87f50e55fed5628e849e10c1aee8ce9b1b92a1b25b6"
   }
  }
 },
 "nbformat": 4,
 "nbformat_minor": 2
}
