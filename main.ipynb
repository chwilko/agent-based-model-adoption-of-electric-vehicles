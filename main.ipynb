{
 "cells": [
  {
   "cell_type": "code",
   "execution_count": 1,
   "metadata": {},
   "outputs": [],
   "source": [
    "from model import Society\n",
    "import matplotlib.pyplot as plt"
   ]
  },
  {
   "cell_type": "code",
   "execution_count": 2,
   "metadata": {},
   "outputs": [
    {
     "ename": "TypeError",
     "evalue": "'int' object is not subscriptable",
     "output_type": "error",
     "traceback": [
      "\u001b[0;31m---------------------------------------------------------------------------\u001b[0m",
      "\u001b[0;31mTypeError\u001b[0m                                 Traceback (most recent call last)",
      "Cell \u001b[0;32mIn[2], line 3\u001b[0m\n\u001b[1;32m      1\u001b[0m N \u001b[38;5;241m=\u001b[39m \u001b[38;5;241m100\u001b[39m\n\u001b[1;32m      2\u001b[0m T \u001b[38;5;241m=\u001b[39m \u001b[38;5;241m100\u001b[39m\n\u001b[0;32m----> 3\u001b[0m soc \u001b[38;5;241m=\u001b[39m \u001b[43mSociety\u001b[49m\u001b[43m(\u001b[49m\u001b[43mN\u001b[49m\u001b[43m,\u001b[49m\u001b[43m \u001b[49m\u001b[38;5;241;43m0.01\u001b[39;49m\u001b[43m,\u001b[49m\u001b[43m \u001b[49m\u001b[38;5;241;43m0.2\u001b[39;49m\u001b[43m,\u001b[49m\u001b[43m \u001b[49m\u001b[38;5;241;43m0.0004\u001b[39;49m\u001b[43m,\u001b[49m\u001b[43m \u001b[49m\u001b[43m(\u001b[49m\u001b[38;5;241;43m100\u001b[39;49m\u001b[43m,\u001b[49m\u001b[43m \u001b[49m\u001b[38;5;241;43m100\u001b[39;49m\u001b[43m)\u001b[49m\u001b[43m,\u001b[49m\u001b[43m \u001b[49m\u001b[38;5;241;43m10\u001b[39;49m\u001b[43m,\u001b[49m\u001b[43m \u001b[49m\u001b[38;5;241;43m10\u001b[39;49m\u001b[43m)\u001b[49m\n\u001b[1;32m      4\u001b[0m soc\u001b[38;5;241m.\u001b[39mgo(T \u001b[38;5;241m-\u001b[39m \u001b[38;5;241m1\u001b[39m)\n\u001b[1;32m      5\u001b[0m data \u001b[38;5;241m=\u001b[39m soc\u001b[38;5;241m.\u001b[39mget_historical_states()\n",
      "File \u001b[0;32m~/Documents/studia/pwr/praca/magisterka/model/Society.py:42\u001b[0m, in \u001b[0;36mSociety.__init__\u001b[0;34m(self, population, alpha, corporation_margin, corporation_technological_progress, city_size, nerby_radius, initial_public_chargers)\u001b[0m\n\u001b[1;32m     38\u001b[0m \u001b[39mself\u001b[39m\u001b[39m.\u001b[39mgoverment \u001b[39m=\u001b[39m Goverment(\u001b[39mNone\u001b[39;00m)\n\u001b[1;32m     39\u001b[0m \u001b[39mself\u001b[39m\u001b[39m.\u001b[39mcorporations \u001b[39m=\u001b[39m Corporations(\n\u001b[1;32m     40\u001b[0m     corporation_margin, corporation_technological_progress\n\u001b[1;32m     41\u001b[0m )\n\u001b[0;32m---> 42\u001b[0m \u001b[39mself\u001b[39m\u001b[39m.\u001b[39mcity \u001b[39m=\u001b[39m City(city_size, initial_public_chargers)\n\u001b[1;32m     43\u001b[0m \u001b[39mself\u001b[39m\u001b[39m.\u001b[39mstate \u001b[39m=\u001b[39m {\n\u001b[1;32m     44\u001b[0m     CV: \u001b[39m0\u001b[39m,\n\u001b[1;32m     45\u001b[0m     PHEV: \u001b[39m0\u001b[39m,\n\u001b[1;32m     46\u001b[0m     EV: \u001b[39m0\u001b[39m,\n\u001b[1;32m     47\u001b[0m }\n\u001b[1;32m     48\u001b[0m \u001b[39mself\u001b[39m\u001b[39m.\u001b[39mhistorical_states \u001b[39m=\u001b[39m []\n",
      "File \u001b[0;32m~/Documents/studia/pwr/praca/magisterka/model/City.py:12\u001b[0m, in \u001b[0;36mCity.__init__\u001b[0;34m(self, city_size, initial_chargers)\u001b[0m\n\u001b[1;32m      8\u001b[0m \u001b[39mself\u001b[39m\u001b[39m.\u001b[39mcharger_pos \u001b[39m=\u001b[39m np\u001b[39m.\u001b[39mrandom\u001b[39m.\u001b[39mrandom(\u001b[39m2\u001b[39m \u001b[39m*\u001b[39m initial_chargers)\u001b[39m.\u001b[39mreshape(\n\u001b[1;32m      9\u001b[0m     (initial_chargers, \u001b[39m2\u001b[39m)\n\u001b[1;32m     10\u001b[0m )\n\u001b[1;32m     11\u001b[0m \u001b[39mself\u001b[39m\u001b[39m.\u001b[39mcity_size \u001b[39m=\u001b[39m city_size\n\u001b[0;32m---> 12\u001b[0m initial_chargers[:, \u001b[39m0\u001b[39m] \u001b[39m=\u001b[39m initial_chargers[:, \u001b[39m0\u001b[39;49m] \u001b[39m*\u001b[39m city_size[\u001b[39m0\u001b[39m]\n\u001b[1;32m     13\u001b[0m initial_chargers[:, \u001b[39m1\u001b[39m] \u001b[39m=\u001b[39m initial_chargers[:, \u001b[39m1\u001b[39m] \u001b[39m*\u001b[39m city_size[\u001b[39m1\u001b[39m]\n",
      "\u001b[0;31mTypeError\u001b[0m: 'int' object is not subscriptable"
     ]
    }
   ],
   "source": [
    "N = 100\n",
    "T = 100\n",
    "soc = Society(N, 0.01, 0.2, 0.0004, (100, 100), 10, 10)\n",
    "soc.go(T - 1)\n",
    "data = soc.get_historical_states()\n",
    "plt.plot(data[\"year\"], data[\"CV\"], label=\"CV\")\n",
    "plt.plot(data[\"year\"], data[\"EV\"], label=\"EV\")\n",
    "plt.plot(data[\"year\"], data[\"PHEV\"], label=\"PHEV\")\n",
    "plt.legend()"
   ]
  },
  {
   "cell_type": "code",
   "execution_count": null,
   "metadata": {},
   "outputs": [],
   "source": []
  }
 ],
 "metadata": {
  "kernelspec": {
   "display_name": "Python 3.11.3 ('magisterka-gfehrrZQ-py3.11')",
   "language": "python",
   "name": "python3"
  },
  "language_info": {
   "codemirror_mode": {
    "name": "ipython",
    "version": 3
   },
   "file_extension": ".py",
   "mimetype": "text/x-python",
   "name": "python",
   "nbconvert_exporter": "python",
   "pygments_lexer": "ipython3",
   "version": "3.11.3"
  },
  "orig_nbformat": 4,
  "vscode": {
   "interpreter": {
    "hash": "defc96318194b7231653b87f50e55fed5628e849e10c1aee8ce9b1b92a1b25b6"
   }
  }
 },
 "nbformat": 4,
 "nbformat_minor": 2
}
